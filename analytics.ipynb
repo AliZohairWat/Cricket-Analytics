{
 "cells": [
  {
   "cell_type": "code",
   "execution_count": null,
   "metadata": {},
   "outputs": [],
   "source": [
    "import tensorflow as tf\n",
    "from tensorflow import keras\n",
    "import numpy as np\n",
    "import pandas as pd\n",
    "import glob, os\n",
    "from IPython.display import display"
   ]
  },
  {
   "cell_type": "code",
   "execution_count": null,
   "metadata": {
    "scrolled": true
   },
   "outputs": [],
   "source": [
    "# pre-processing data\n",
    "def format(file):\n",
    "    # skip reading all ball-related data\n",
    "    df = pd.read_csv(file, sep=',', skiprows=1, warn_bad_lines=False, error_bad_lines=False, index_col=None, mangle_dupe_cols=True) \n",
    "    df = df[df[\"info\"] != \"ball\"] \n",
    "    # first column not required\n",
    "    df.drop(columns=[\"info\"], inplace=True)\n",
    "    # df = pd.read_csv(\"C:\\Users\\alizo\\OneDrive - University of Waterloo\\Desktop\\Ali\\Universities\\Data Science\\Cricket ML\\Source\\1211660.csv\")\n",
    "    # data format is transposed\n",
    "    df = df.transpose(copy=True)\n",
    "    headers = df.iloc[0]\n",
    "    df = df[1:]\n",
    "    df.columns = headers\n",
    "    # multiple columns with same names\n",
    "    df.columns = pd.io.parsers.ParserBase({'names':df.columns})._maybe_dedup_names(df.columns)\n",
    "    df.reset_index(inplace=True)\n",
    "    df.rename(columns={ df.columns[0]: \"team1\", df.columns[1]: \"team2\", \"umpire\" : \"umpire1\", \"umpire.1\" : \"umpire2\"}, inplace=True)\n",
    "    return df\n",
    "\n"
   ]
  },
  {
   "cell_type": "code",
   "execution_count": null,
   "metadata": {},
   "outputs": [],
   "source": [
    "df = pd.DataFrame()\n",
    "path = \"C:/Users/alizo/OneDrive - University of Waterloo/Desktop/Ali/Universities/Data Science/Cricket ML/Source\"\n",
    "all_files = glob.glob(os.path.join(path, \"*.csv\"))\n",
    "for i in all_files:\n",
    "    new_df = format(i)\n",
    "    df = pd.concat([df, new_df], axis=0, ignore_index=True)    \n",
    "\n",
    "df.info()\n",
    "df.head()"
   ]
  },
  {
   "cell_type": "code",
   "execution_count": null,
   "metadata": {
    "scrolled": false
   },
   "outputs": [],
   "source": [
    "# city dictionary\n",
    "city_map = {'Dubai International Cricket Stadium' : 'Dubai',\n",
    "            'Sharjah Cricket Stadium' : 'Sharjah',\n",
    "            'Gaddafi Stadium' : 'Lahore',\n",
    "            'National Stadium' : 'Karachi',\n",
    "            'Sheikh Zayed Stadium' : 'Abu Dhabi',\n",
    "            'Multan Cricket Stadium' : 'Multan',\n",
    "            'Rawalpindi Cricket Stadium' : 'Rawalpindi'}\n",
    "df['city'] = df.apply(lambda row: city_map[row['venue']], axis=1)\n",
    "# df.head()"
   ]
  },
  {
   "cell_type": "code",
   "execution_count": null,
   "metadata": {},
   "outputs": [],
   "source": [
    "# df.method.unique()\n",
    "# df.outcome.unique()\n",
    "# df[pd.isnull(df['winner'])]\n"
   ]
  },
  {
   "cell_type": "code",
   "execution_count": null,
   "metadata": {
    "scrolled": true
   },
   "outputs": [],
   "source": [
    "# tie games\n",
    "df['winner'] = df.apply(\n",
    "    lambda row: row['eliminator'] if pd.isnull(row['winner']) and pd.notnull(row['eliminator']) else row['winner'],\n",
    "    axis=1\n",
    ")\n",
    "# games decided by D/L (washed out) \n",
    "df['outcome'] = df.apply(\n",
    "    lambda row: \"D/L\" if pd.isnull(row['outcome']) and (row['method'] == \"D/L\") else row['outcome'],\n",
    "    axis=1\n",
    ")\n",
    "df.outcome.fillna(\"Result\", inplace=True)\n",
    "df.drop(columns=[\"match_number\", \"eliminator\", \"method\"], inplace=True)"
   ]
  },
  {
   "cell_type": "code",
   "execution_count": null,
   "metadata": {
    "scrolled": true
   },
   "outputs": [],
   "source": [
    "df.info()\n",
    "df.describe()"
   ]
  }
 ],
 "metadata": {
  "kernelspec": {
   "display_name": "Python 3",
   "language": "python",
   "name": "python3"
  },
  "language_info": {
   "codemirror_mode": {
    "name": "ipython",
    "version": 3
   },
   "file_extension": ".py",
   "mimetype": "text/x-python",
   "name": "python",
   "nbconvert_exporter": "python",
   "pygments_lexer": "ipython3",
   "version": "3.7.9"
  }
 },
 "nbformat": 4,
 "nbformat_minor": 4
}
