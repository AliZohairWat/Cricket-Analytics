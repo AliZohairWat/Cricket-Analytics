{
 "cells": [
  {
   "cell_type": "code",
   "execution_count": 11,
   "metadata": {},
   "outputs": [],
   "source": [
    "import tensorflow as tf\n",
    "from tensorflow import keras\n",
    "import numpy as np\n",
    "import pandas as pd\n",
    "import glob, os\n",
    "from IPython.display import display"
   ]
  },
  {
   "cell_type": "code",
   "execution_count": 29,
   "metadata": {},
   "outputs": [],
   "source": [
    "def format(file):\n",
    "    df = pd.read_csv(file, sep=',', skiprows=1, error_bad_lines=False, mangle_dupe_cols=True)\n",
    "    df = df[df[\"info\"] != \"ball\"]\n",
    "    df.drop(columns=[\"info\"], inplace=True)\n",
    "    # df = pd.read_csv(\"C:\\Users\\alizo\\OneDrive - University of Waterloo\\Desktop\\Ali\\Universities\\Data Science\\Cricket ML\\Source\\1211660.csv\")\n",
    "    df = df.T\n",
    "    headers = df.iloc[0]\n",
    "    df = df[1:]\n",
    "    df.columns = headers\n",
    "    df.head()\n",
    "    return df\n"
   ]
  },
  {
   "cell_type": "code",
   "execution_count": 40,
   "metadata": {},
   "outputs": [
    {
     "name": "stdout",
     "output_type": "stream",
     "text": [
      "Original df\n"
     ]
    },
    {
     "name": "stderr",
     "output_type": "stream",
     "text": [
      "b'Skipping line 23: expected 3 fields, saw 11\\nSkipping line 24: expected 3 fields, saw 11\\nSkipping line 25: expected 3 fields, saw 11\\nSkipping line 26: expected 3 fields, saw 11\\nSkipping line 27: expected 3 fields, saw 11\\nSkipping line 28: expected 3 fields, saw 11\\nSkipping line 29: expected 3 fields, saw 11\\nSkipping line 30: expected 3 fields, saw 11\\nSkipping line 31: expected 3 fields, saw 11\\nSkipping line 32: expected 3 fields, saw 11\\nSkipping line 33: expected 3 fields, saw 11\\nSkipping line 34: expected 3 fields, saw 11\\nSkipping line 35: expected 3 fields, saw 11\\nSkipping line 36: expected 3 fields, saw 11\\nSkipping line 37: expected 3 fields, saw 11\\nSkipping line 38: expected 3 fields, saw 11\\nSkipping line 39: expected 3 fields, saw 11\\nSkipping line 40: expected 3 fields, saw 11\\nSkipping line 41: expected 3 fields, saw 11\\nSkipping line 42: expected 3 fields, saw 11\\nSkipping line 43: expected 3 fields, saw 11\\nSkipping line 44: expected 3 fields, saw 11\\nSkipping line 45: expected 3 fields, saw 11\\nSkipping line 46: expected 3 fields, saw 11\\nSkipping line 47: expected 3 fields, saw 11\\nSkipping line 48: expected 3 fields, saw 11\\nSkipping line 49: expected 3 fields, saw 11\\nSkipping line 50: expected 3 fields, saw 11\\nSkipping line 51: expected 3 fields, saw 11\\nSkipping line 52: expected 3 fields, saw 11\\nSkipping line 53: expected 3 fields, saw 11\\nSkipping line 54: expected 3 fields, saw 11\\nSkipping line 55: expected 3 fields, saw 11\\nSkipping line 56: expected 3 fields, saw 11\\nSkipping line 57: expected 3 fields, saw 11\\nSkipping line 58: expected 3 fields, saw 11\\nSkipping line 59: expected 3 fields, saw 11\\nSkipping line 60: expected 3 fields, saw 11\\nSkipping line 61: expected 3 fields, saw 11\\nSkipping line 62: expected 3 fields, saw 11\\nSkipping line 63: expected 3 fields, saw 11\\nSkipping line 64: expected 3 fields, saw 11\\nSkipping line 65: expected 3 fields, saw 11\\nSkipping line 66: expected 3 fields, saw 11\\nSkipping line 67: expected 3 fields, saw 11\\nSkipping line 68: expected 3 fields, saw 11\\nSkipping line 69: expected 3 fields, saw 11\\nSkipping line 70: expected 3 fields, saw 11\\nSkipping line 71: expected 3 fields, saw 11\\nSkipping line 72: expected 3 fields, saw 11\\nSkipping line 73: expected 3 fields, saw 11\\nSkipping line 74: expected 3 fields, saw 11\\nSkipping line 75: expected 3 fields, saw 11\\nSkipping line 76: expected 3 fields, saw 11\\nSkipping line 77: expected 3 fields, saw 11\\nSkipping line 78: expected 3 fields, saw 11\\nSkipping line 79: expected 3 fields, saw 11\\nSkipping line 80: expected 3 fields, saw 11\\nSkipping line 81: expected 3 fields, saw 11\\nSkipping line 82: expected 3 fields, saw 11\\nSkipping line 83: expected 3 fields, saw 11\\nSkipping line 84: expected 3 fields, saw 11\\nSkipping line 85: expected 3 fields, saw 11\\nSkipping line 86: expected 3 fields, saw 11\\nSkipping line 87: expected 3 fields, saw 11\\nSkipping line 88: expected 3 fields, saw 11\\nSkipping line 89: expected 3 fields, saw 11\\nSkipping line 90: expected 3 fields, saw 11\\nSkipping line 91: expected 3 fields, saw 11\\nSkipping line 92: expected 3 fields, saw 11\\nSkipping line 93: expected 3 fields, saw 11\\nSkipping line 94: expected 3 fields, saw 11\\nSkipping line 95: expected 3 fields, saw 11\\nSkipping line 96: expected 3 fields, saw 11\\nSkipping line 97: expected 3 fields, saw 11\\nSkipping line 98: expected 3 fields, saw 11\\nSkipping line 99: expected 3 fields, saw 11\\nSkipping line 100: expected 3 fields, saw 11\\nSkipping line 101: expected 3 fields, saw 11\\nSkipping line 102: expected 3 fields, saw 11\\nSkipping line 103: expected 3 fields, saw 11\\nSkipping line 104: expected 3 fields, saw 11\\nSkipping line 105: expected 3 fields, saw 11\\nSkipping line 106: expected 3 fields, saw 11\\nSkipping line 107: expected 3 fields, saw 11\\nSkipping line 108: expected 3 fields, saw 11\\nSkipping line 109: expected 3 fields, saw 11\\nSkipping line 110: expected 3 fields, saw 11\\nSkipping line 111: expected 3 fields, saw 11\\nSkipping line 112: expected 3 fields, saw 11\\nSkipping line 113: expected 3 fields, saw 11\\nSkipping line 114: expected 3 fields, saw 11\\nSkipping line 115: expected 3 fields, saw 11\\nSkipping line 116: expected 3 fields, saw 11\\nSkipping line 117: expected 3 fields, saw 11\\nSkipping line 118: expected 3 fields, saw 11\\nSkipping line 119: expected 3 fields, saw 11\\nSkipping line 120: expected 3 fields, saw 11\\nSkipping line 121: expected 3 fields, saw 11\\nSkipping line 122: expected 3 fields, saw 11\\nSkipping line 123: expected 3 fields, saw 11\\nSkipping line 124: expected 3 fields, saw 11\\nSkipping line 125: expected 3 fields, saw 11\\nSkipping line 126: expected 3 fields, saw 11\\nSkipping line 127: expected 3 fields, saw 11\\nSkipping line 128: expected 3 fields, saw 11\\nSkipping line 129: expected 3 fields, saw 11\\nSkipping line 130: expected 3 fields, saw 11\\nSkipping line 131: expected 3 fields, saw 11\\nSkipping line 132: expected 3 fields, saw 11\\nSkipping line 133: expected 3 fields, saw 11\\nSkipping line 134: expected 3 fields, saw 11\\nSkipping line 135: expected 3 fields, saw 11\\nSkipping line 136: expected 3 fields, saw 11\\nSkipping line 137: expected 3 fields, saw 11\\nSkipping line 138: expected 3 fields, saw 11\\nSkipping line 139: expected 3 fields, saw 11\\nSkipping line 140: expected 3 fields, saw 11\\nSkipping line 141: expected 3 fields, saw 11\\nSkipping line 142: expected 3 fields, saw 11\\nSkipping line 143: expected 3 fields, saw 11\\nSkipping line 144: expected 3 fields, saw 11\\nSkipping line 145: expected 3 fields, saw 11\\nSkipping line 146: expected 3 fields, saw 11\\nSkipping line 147: expected 3 fields, saw 11\\nSkipping line 148: expected 3 fields, saw 11\\nSkipping line 149: expected 3 fields, saw 11\\nSkipping line 150: expected 3 fields, saw 11\\nSkipping line 151: expected 3 fields, saw 11\\nSkipping line 152: expected 3 fields, saw 11\\nSkipping line 153: expected 3 fields, saw 11\\nSkipping line 154: expected 3 fields, saw 11\\nSkipping line 155: expected 3 fields, saw 11\\nSkipping line 156: expected 3 fields, saw 11\\nSkipping line 157: expected 3 fields, saw 11\\nSkipping line 158: expected 3 fields, saw 11\\nSkipping line 159: expected 3 fields, saw 11\\nSkipping line 160: expected 3 fields, saw 11\\nSkipping line 161: expected 3 fields, saw 11\\nSkipping line 162: expected 3 fields, saw 11\\nSkipping line 163: expected 3 fields, saw 11\\nSkipping line 164: expected 3 fields, saw 11\\nSkipping line 165: expected 3 fields, saw 11\\nSkipping line 166: expected 3 fields, saw 11\\nSkipping line 167: expected 3 fields, saw 11\\nSkipping line 168: expected 3 fields, saw 11\\nSkipping line 169: expected 3 fields, saw 11\\nSkipping line 170: expected 3 fields, saw 11\\nSkipping line 171: expected 3 fields, saw 11\\nSkipping line 172: expected 3 fields, saw 11\\nSkipping line 173: expected 3 fields, saw 11\\nSkipping line 174: expected 3 fields, saw 11\\nSkipping line 175: expected 3 fields, saw 11\\nSkipping line 176: expected 3 fields, saw 11\\nSkipping line 177: expected 3 fields, saw 11\\nSkipping line 178: expected 3 fields, saw 11\\nSkipping line 179: expected 3 fields, saw 11\\nSkipping line 180: expected 3 fields, saw 11\\nSkipping line 181: expected 3 fields, saw 11\\nSkipping line 182: expected 3 fields, saw 11\\nSkipping line 183: expected 3 fields, saw 11\\nSkipping line 184: expected 3 fields, saw 11\\nSkipping line 185: expected 3 fields, saw 11\\nSkipping line 186: expected 3 fields, saw 11\\nSkipping line 187: expected 3 fields, saw 11\\nSkipping line 188: expected 3 fields, saw 11\\nSkipping line 189: expected 3 fields, saw 11\\nSkipping line 190: expected 3 fields, saw 11\\nSkipping line 191: expected 3 fields, saw 11\\nSkipping line 192: expected 3 fields, saw 11\\nSkipping line 193: expected 3 fields, saw 11\\nSkipping line 194: expected 3 fields, saw 11\\nSkipping line 195: expected 3 fields, saw 11\\nSkipping line 196: expected 3 fields, saw 11\\nSkipping line 197: expected 3 fields, saw 11\\nSkipping line 198: expected 3 fields, saw 11\\nSkipping line 199: expected 3 fields, saw 11\\nSkipping line 200: expected 3 fields, saw 11\\nSkipping line 201: expected 3 fields, saw 11\\nSkipping line 202: expected 3 fields, saw 11\\nSkipping line 203: expected 3 fields, saw 11\\nSkipping line 204: expected 3 fields, saw 11\\nSkipping line 205: expected 3 fields, saw 11\\nSkipping line 206: expected 3 fields, saw 11\\nSkipping line 207: expected 3 fields, saw 11\\nSkipping line 208: expected 3 fields, saw 11\\nSkipping line 209: expected 3 fields, saw 11\\nSkipping line 210: expected 3 fields, saw 11\\nSkipping line 211: expected 3 fields, saw 11\\nSkipping line 212: expected 3 fields, saw 11\\nSkipping line 213: expected 3 fields, saw 11\\nSkipping line 214: expected 3 fields, saw 11\\nSkipping line 215: expected 3 fields, saw 11\\nSkipping line 216: expected 3 fields, saw 11\\nSkipping line 217: expected 3 fields, saw 11\\nSkipping line 218: expected 3 fields, saw 11\\nSkipping line 219: expected 3 fields, saw 11\\nSkipping line 220: expected 3 fields, saw 11\\nSkipping line 221: expected 3 fields, saw 11\\nSkipping line 222: expected 3 fields, saw 11\\nSkipping line 223: expected 3 fields, saw 11\\nSkipping line 224: expected 3 fields, saw 11\\nSkipping line 225: expected 3 fields, saw 11\\nSkipping line 226: expected 3 fields, saw 11\\nSkipping line 227: expected 3 fields, saw 11\\nSkipping line 228: expected 3 fields, saw 11\\nSkipping line 229: expected 3 fields, saw 11\\nSkipping line 230: expected 3 fields, saw 11\\nSkipping line 231: expected 3 fields, saw 11\\nSkipping line 232: expected 3 fields, saw 11\\nSkipping line 233: expected 3 fields, saw 11\\nSkipping line 234: expected 3 fields, saw 11\\nSkipping line 235: expected 3 fields, saw 11\\nSkipping line 236: expected 3 fields, saw 11\\nSkipping line 237: expected 3 fields, saw 11\\nSkipping line 238: expected 3 fields, saw 11\\nSkipping line 239: expected 3 fields, saw 11\\nSkipping line 240: expected 3 fields, saw 11\\nSkipping line 241: expected 3 fields, saw 11\\nSkipping line 242: expected 3 fields, saw 11\\nSkipping line 243: expected 3 fields, saw 11\\nSkipping line 244: expected 3 fields, saw 11\\nSkipping line 245: expected 3 fields, saw 11\\nSkipping line 246: expected 3 fields, saw 11\\nSkipping line 247: expected 3 fields, saw 11\\nSkipping line 248: expected 3 fields, saw 11\\nSkipping line 249: expected 3 fields, saw 11\\nSkipping line 250: expected 3 fields, saw 11\\nSkipping line 251: expected 3 fields, saw 11\\nSkipping line 252: expected 3 fields, saw 11\\nSkipping line 253: expected 3 fields, saw 11\\nSkipping line 254: expected 3 fields, saw 11\\nSkipping line 255: expected 3 fields, saw 11\\nSkipping line 256: expected 3 fields, saw 11\\nSkipping line 257: expected 3 fields, saw 11\\nSkipping line 258: expected 3 fields, saw 11\\nSkipping line 259: expected 3 fields, saw 11\\n'\n"
     ]
    },
    {
     "data": {
      "text/html": [
       "<div>\n",
       "<style scoped>\n",
       "    .dataframe tbody tr th:only-of-type {\n",
       "        vertical-align: middle;\n",
       "    }\n",
       "\n",
       "    .dataframe tbody tr th {\n",
       "        vertical-align: top;\n",
       "    }\n",
       "\n",
       "    .dataframe thead th {\n",
       "        text-align: right;\n",
       "    }\n",
       "</style>\n",
       "<table border=\"1\" class=\"dataframe\">\n",
       "  <thead>\n",
       "    <tr style=\"text-align: right;\">\n",
       "      <th>team</th>\n",
       "      <th>team2</th>\n",
       "      <th>gender</th>\n",
       "      <th>season</th>\n",
       "      <th>date</th>\n",
       "      <th>competition</th>\n",
       "      <th>match_number</th>\n",
       "      <th>venue</th>\n",
       "      <th>city</th>\n",
       "      <th>neutralvenue</th>\n",
       "      <th>toss_winner</th>\n",
       "      <th>toss_decision</th>\n",
       "      <th>player_of_match</th>\n",
       "      <th>umpire</th>\n",
       "      <th>umpire</th>\n",
       "      <th>reserve_umpire</th>\n",
       "      <th>tv_umpire</th>\n",
       "      <th>match_referee</th>\n",
       "      <th>winner</th>\n",
       "      <th>winner_wickets</th>\n",
       "      <th>method</th>\n",
       "    </tr>\n",
       "  </thead>\n",
       "  <tbody>\n",
       "    <tr>\n",
       "      <th>0</th>\n",
       "      <td>Peshawar Zalmi</td>\n",
       "      <td>male</td>\n",
       "      <td>2016/17</td>\n",
       "      <td>2017/02/09</td>\n",
       "      <td>Pakistan Super League</td>\n",
       "      <td>1</td>\n",
       "      <td>Dubai International Cricket Stadium</td>\n",
       "      <td>NaN</td>\n",
       "      <td>true</td>\n",
       "      <td>Islamabad United</td>\n",
       "      <td>field</td>\n",
       "      <td>BJ Haddin</td>\n",
       "      <td>Ahsan Raza</td>\n",
       "      <td>Shozab Raza</td>\n",
       "      <td>Asif Yaqoob</td>\n",
       "      <td>Rashid Riaz</td>\n",
       "      <td>RS Mahanama</td>\n",
       "      <td>Islamabad United</td>\n",
       "      <td>7</td>\n",
       "      <td>D/L</td>\n",
       "    </tr>\n",
       "  </tbody>\n",
       "</table>\n",
       "</div>"
      ],
      "text/plain": [
       "team           team2 gender   season        date            competition  \\\n",
       "0     Peshawar Zalmi   male  2016/17  2017/02/09  Pakistan Super League   \n",
       "\n",
       "team match_number                                venue city neutralvenue  \\\n",
       "0               1  Dubai International Cricket Stadium  NaN         true   \n",
       "\n",
       "team       toss_winner toss_decision player_of_match      umpire       umpire  \\\n",
       "0     Islamabad United         field       BJ Haddin  Ahsan Raza  Shozab Raza   \n",
       "\n",
       "team reserve_umpire    tv_umpire match_referee            winner  \\\n",
       "0       Asif Yaqoob  Rashid Riaz   RS Mahanama  Islamabad United   \n",
       "\n",
       "team winner_wickets method  \n",
       "0                 7    D/L  "
      ]
     },
     "metadata": {},
     "output_type": "display_data"
    },
    {
     "name": "stderr",
     "output_type": "stream",
     "text": [
      "b'Skipping line 22: expected 3 fields, saw 11\\nSkipping line 23: expected 3 fields, saw 11\\nSkipping line 24: expected 3 fields, saw 11\\nSkipping line 25: expected 3 fields, saw 11\\nSkipping line 26: expected 3 fields, saw 11\\nSkipping line 27: expected 3 fields, saw 11\\nSkipping line 28: expected 3 fields, saw 11\\nSkipping line 29: expected 3 fields, saw 11\\nSkipping line 30: expected 3 fields, saw 11\\nSkipping line 31: expected 3 fields, saw 11\\nSkipping line 32: expected 3 fields, saw 11\\nSkipping line 33: expected 3 fields, saw 11\\nSkipping line 34: expected 3 fields, saw 11\\nSkipping line 35: expected 3 fields, saw 11\\nSkipping line 36: expected 3 fields, saw 11\\nSkipping line 37: expected 3 fields, saw 11\\nSkipping line 38: expected 3 fields, saw 11\\nSkipping line 39: expected 3 fields, saw 11\\nSkipping line 40: expected 3 fields, saw 11\\nSkipping line 41: expected 3 fields, saw 11\\nSkipping line 42: expected 3 fields, saw 11\\nSkipping line 43: expected 3 fields, saw 11\\nSkipping line 44: expected 3 fields, saw 11\\nSkipping line 45: expected 3 fields, saw 11\\nSkipping line 46: expected 3 fields, saw 11\\nSkipping line 47: expected 3 fields, saw 11\\nSkipping line 48: expected 3 fields, saw 11\\nSkipping line 49: expected 3 fields, saw 11\\nSkipping line 50: expected 3 fields, saw 11\\nSkipping line 51: expected 3 fields, saw 11\\nSkipping line 52: expected 3 fields, saw 11\\nSkipping line 53: expected 3 fields, saw 11\\nSkipping line 54: expected 3 fields, saw 11\\nSkipping line 55: expected 3 fields, saw 11\\nSkipping line 56: expected 3 fields, saw 11\\nSkipping line 57: expected 3 fields, saw 11\\nSkipping line 58: expected 3 fields, saw 11\\nSkipping line 59: expected 3 fields, saw 11\\nSkipping line 60: expected 3 fields, saw 11\\nSkipping line 61: expected 3 fields, saw 11\\nSkipping line 62: expected 3 fields, saw 11\\nSkipping line 63: expected 3 fields, saw 11\\nSkipping line 64: expected 3 fields, saw 11\\nSkipping line 65: expected 3 fields, saw 11\\nSkipping line 66: expected 3 fields, saw 11\\nSkipping line 67: expected 3 fields, saw 11\\nSkipping line 68: expected 3 fields, saw 11\\nSkipping line 69: expected 3 fields, saw 11\\nSkipping line 70: expected 3 fields, saw 11\\nSkipping line 71: expected 3 fields, saw 11\\nSkipping line 72: expected 3 fields, saw 11\\nSkipping line 73: expected 3 fields, saw 11\\nSkipping line 74: expected 3 fields, saw 11\\nSkipping line 75: expected 3 fields, saw 11\\nSkipping line 76: expected 3 fields, saw 11\\nSkipping line 77: expected 3 fields, saw 11\\nSkipping line 78: expected 3 fields, saw 11\\nSkipping line 79: expected 3 fields, saw 11\\nSkipping line 80: expected 3 fields, saw 11\\nSkipping line 81: expected 3 fields, saw 11\\nSkipping line 82: expected 3 fields, saw 11\\nSkipping line 83: expected 3 fields, saw 11\\nSkipping line 84: expected 3 fields, saw 11\\nSkipping line 85: expected 3 fields, saw 11\\nSkipping line 86: expected 3 fields, saw 11\\nSkipping line 87: expected 3 fields, saw 11\\nSkipping line 88: expected 3 fields, saw 11\\nSkipping line 89: expected 3 fields, saw 11\\nSkipping line 90: expected 3 fields, saw 11\\nSkipping line 91: expected 3 fields, saw 11\\nSkipping line 92: expected 3 fields, saw 11\\nSkipping line 93: expected 3 fields, saw 11\\nSkipping line 94: expected 3 fields, saw 11\\nSkipping line 95: expected 3 fields, saw 11\\nSkipping line 96: expected 3 fields, saw 11\\nSkipping line 97: expected 3 fields, saw 11\\nSkipping line 98: expected 3 fields, saw 11\\nSkipping line 99: expected 3 fields, saw 11\\nSkipping line 100: expected 3 fields, saw 11\\nSkipping line 101: expected 3 fields, saw 11\\nSkipping line 102: expected 3 fields, saw 11\\nSkipping line 103: expected 3 fields, saw 11\\nSkipping line 104: expected 3 fields, saw 11\\nSkipping line 105: expected 3 fields, saw 11\\nSkipping line 106: expected 3 fields, saw 11\\nSkipping line 107: expected 3 fields, saw 11\\nSkipping line 108: expected 3 fields, saw 11\\nSkipping line 109: expected 3 fields, saw 11\\nSkipping line 110: expected 3 fields, saw 11\\nSkipping line 111: expected 3 fields, saw 11\\nSkipping line 112: expected 3 fields, saw 11\\nSkipping line 113: expected 3 fields, saw 11\\nSkipping line 114: expected 3 fields, saw 11\\nSkipping line 115: expected 3 fields, saw 11\\nSkipping line 116: expected 3 fields, saw 11\\nSkipping line 117: expected 3 fields, saw 11\\nSkipping line 118: expected 3 fields, saw 11\\nSkipping line 119: expected 3 fields, saw 11\\nSkipping line 120: expected 3 fields, saw 11\\nSkipping line 121: expected 3 fields, saw 11\\nSkipping line 122: expected 3 fields, saw 11\\nSkipping line 123: expected 3 fields, saw 11\\nSkipping line 124: expected 3 fields, saw 11\\nSkipping line 125: expected 3 fields, saw 11\\nSkipping line 126: expected 3 fields, saw 11\\nSkipping line 127: expected 3 fields, saw 11\\nSkipping line 128: expected 3 fields, saw 11\\nSkipping line 129: expected 3 fields, saw 11\\nSkipping line 130: expected 3 fields, saw 11\\nSkipping line 131: expected 3 fields, saw 11\\nSkipping line 132: expected 3 fields, saw 11\\nSkipping line 133: expected 3 fields, saw 11\\nSkipping line 134: expected 3 fields, saw 11\\nSkipping line 135: expected 3 fields, saw 11\\nSkipping line 136: expected 3 fields, saw 11\\nSkipping line 137: expected 3 fields, saw 11\\nSkipping line 138: expected 3 fields, saw 11\\nSkipping line 139: expected 3 fields, saw 11\\nSkipping line 140: expected 3 fields, saw 11\\nSkipping line 141: expected 3 fields, saw 11\\nSkipping line 142: expected 3 fields, saw 11\\nSkipping line 143: expected 3 fields, saw 11\\nSkipping line 144: expected 3 fields, saw 11\\nSkipping line 145: expected 3 fields, saw 11\\nSkipping line 146: expected 3 fields, saw 11\\nSkipping line 147: expected 3 fields, saw 11\\nSkipping line 148: expected 3 fields, saw 11\\nSkipping line 149: expected 3 fields, saw 11\\nSkipping line 150: expected 3 fields, saw 11\\nSkipping line 151: expected 3 fields, saw 11\\nSkipping line 152: expected 3 fields, saw 11\\nSkipping line 153: expected 3 fields, saw 11\\nSkipping line 154: expected 3 fields, saw 11\\nSkipping line 155: expected 3 fields, saw 11\\nSkipping line 156: expected 3 fields, saw 11\\nSkipping line 157: expected 3 fields, saw 11\\nSkipping line 158: expected 3 fields, saw 11\\nSkipping line 159: expected 3 fields, saw 11\\nSkipping line 160: expected 3 fields, saw 11\\nSkipping line 161: expected 3 fields, saw 11\\nSkipping line 162: expected 3 fields, saw 11\\nSkipping line 163: expected 3 fields, saw 11\\nSkipping line 164: expected 3 fields, saw 11\\nSkipping line 165: expected 3 fields, saw 11\\nSkipping line 166: expected 3 fields, saw 11\\nSkipping line 167: expected 3 fields, saw 11\\nSkipping line 168: expected 3 fields, saw 11\\nSkipping line 169: expected 3 fields, saw 11\\nSkipping line 170: expected 3 fields, saw 11\\nSkipping line 171: expected 3 fields, saw 11\\nSkipping line 172: expected 3 fields, saw 11\\nSkipping line 173: expected 3 fields, saw 11\\nSkipping line 174: expected 3 fields, saw 11\\nSkipping line 175: expected 3 fields, saw 11\\nSkipping line 176: expected 3 fields, saw 11\\nSkipping line 177: expected 3 fields, saw 11\\nSkipping line 178: expected 3 fields, saw 11\\nSkipping line 179: expected 3 fields, saw 11\\nSkipping line 180: expected 3 fields, saw 11\\nSkipping line 181: expected 3 fields, saw 11\\nSkipping line 182: expected 3 fields, saw 11\\nSkipping line 183: expected 3 fields, saw 11\\nSkipping line 184: expected 3 fields, saw 11\\nSkipping line 185: expected 3 fields, saw 11\\nSkipping line 186: expected 3 fields, saw 11\\nSkipping line 187: expected 3 fields, saw 11\\nSkipping line 188: expected 3 fields, saw 11\\nSkipping line 189: expected 3 fields, saw 11\\nSkipping line 190: expected 3 fields, saw 11\\nSkipping line 191: expected 3 fields, saw 11\\nSkipping line 192: expected 3 fields, saw 11\\nSkipping line 193: expected 3 fields, saw 11\\nSkipping line 194: expected 3 fields, saw 11\\nSkipping line 195: expected 3 fields, saw 11\\nSkipping line 196: expected 3 fields, saw 11\\nSkipping line 197: expected 3 fields, saw 11\\nSkipping line 198: expected 3 fields, saw 11\\nSkipping line 199: expected 3 fields, saw 11\\nSkipping line 200: expected 3 fields, saw 11\\nSkipping line 201: expected 3 fields, saw 11\\nSkipping line 202: expected 3 fields, saw 11\\nSkipping line 203: expected 3 fields, saw 11\\nSkipping line 204: expected 3 fields, saw 11\\nSkipping line 205: expected 3 fields, saw 11\\nSkipping line 206: expected 3 fields, saw 11\\nSkipping line 207: expected 3 fields, saw 11\\nSkipping line 208: expected 3 fields, saw 11\\nSkipping line 209: expected 3 fields, saw 11\\nSkipping line 210: expected 3 fields, saw 11\\nSkipping line 211: expected 3 fields, saw 11\\nSkipping line 212: expected 3 fields, saw 11\\nSkipping line 213: expected 3 fields, saw 11\\nSkipping line 214: expected 3 fields, saw 11\\nSkipping line 215: expected 3 fields, saw 11\\nSkipping line 216: expected 3 fields, saw 11\\nSkipping line 217: expected 3 fields, saw 11\\nSkipping line 218: expected 3 fields, saw 11\\nSkipping line 219: expected 3 fields, saw 11\\nSkipping line 220: expected 3 fields, saw 11\\nSkipping line 221: expected 3 fields, saw 11\\nSkipping line 222: expected 3 fields, saw 11\\nSkipping line 223: expected 3 fields, saw 11\\nSkipping line 224: expected 3 fields, saw 11\\nSkipping line 225: expected 3 fields, saw 11\\nSkipping line 226: expected 3 fields, saw 11\\nSkipping line 227: expected 3 fields, saw 11\\nSkipping line 228: expected 3 fields, saw 11\\nSkipping line 229: expected 3 fields, saw 11\\nSkipping line 230: expected 3 fields, saw 11\\nSkipping line 231: expected 3 fields, saw 11\\nSkipping line 232: expected 3 fields, saw 11\\nSkipping line 233: expected 3 fields, saw 11\\nSkipping line 234: expected 3 fields, saw 11\\nSkipping line 235: expected 3 fields, saw 11\\nSkipping line 236: expected 3 fields, saw 11\\nSkipping line 237: expected 3 fields, saw 11\\nSkipping line 238: expected 3 fields, saw 11\\nSkipping line 239: expected 3 fields, saw 11\\nSkipping line 240: expected 3 fields, saw 11\\nSkipping line 241: expected 3 fields, saw 11\\nSkipping line 242: expected 3 fields, saw 11\\nSkipping line 243: expected 3 fields, saw 11\\nSkipping line 244: expected 3 fields, saw 11\\nSkipping line 245: expected 3 fields, saw 11\\nSkipping line 246: expected 3 fields, saw 11\\nSkipping line 247: expected 3 fields, saw 11\\nSkipping line 248: expected 3 fields, saw 11\\nSkipping line 249: expected 3 fields, saw 11\\nSkipping line 250: expected 3 fields, saw 11\\nSkipping line 251: expected 3 fields, saw 11\\nSkipping line 252: expected 3 fields, saw 11\\nSkipping line 253: expected 3 fields, saw 11\\nSkipping line 254: expected 3 fields, saw 11\\nSkipping line 255: expected 3 fields, saw 11\\nSkipping line 256: expected 3 fields, saw 11\\nSkipping line 257: expected 3 fields, saw 11\\nSkipping line 258: expected 3 fields, saw 11\\n'\n"
     ]
    },
    {
     "ename": "AssertionError",
     "evalue": "Number of manager items must equal union of block items\n# manager items: 20, # tot_items: 21",
     "output_type": "error",
     "traceback": [
      "\u001b[1;31m---------------------------------------------------------------------------\u001b[0m",
      "\u001b[1;31mAssertionError\u001b[0m                            Traceback (most recent call last)",
      "\u001b[1;32m<ipython-input-40-895b88930dd8>\u001b[0m in \u001b[0;36m<module>\u001b[1;34m\u001b[0m\n\u001b[0;32m     13\u001b[0m     \u001b[1;31m# display(new_df.head())\u001b[0m\u001b[1;33m\u001b[0m\u001b[1;33m\u001b[0m\u001b[1;33m\u001b[0m\u001b[0m\n\u001b[0;32m     14\u001b[0m     \u001b[1;31m#df = pd.concat([df, new_df], axis=0, ignore_index=False)\u001b[0m\u001b[1;33m\u001b[0m\u001b[1;33m\u001b[0m\u001b[1;33m\u001b[0m\u001b[0m\n\u001b[1;32m---> 15\u001b[1;33m     \u001b[0mdf\u001b[0m \u001b[1;33m=\u001b[0m \u001b[0mdf\u001b[0m\u001b[1;33m.\u001b[0m\u001b[0mappend\u001b[0m\u001b[1;33m(\u001b[0m\u001b[0mnew_df\u001b[0m\u001b[1;33m,\u001b[0m \u001b[0mignore_index\u001b[0m\u001b[1;33m=\u001b[0m\u001b[1;32mTrue\u001b[0m\u001b[1;33m)\u001b[0m\u001b[1;33m\u001b[0m\u001b[1;33m\u001b[0m\u001b[0m\n\u001b[0m\u001b[0;32m     16\u001b[0m     \u001b[0mprint\u001b[0m\u001b[1;33m(\u001b[0m\u001b[1;34m\"Original df\"\u001b[0m\u001b[1;33m)\u001b[0m\u001b[1;33m\u001b[0m\u001b[1;33m\u001b[0m\u001b[0m\n\u001b[0;32m     17\u001b[0m     \u001b[0mdisplay\u001b[0m\u001b[1;33m(\u001b[0m\u001b[0mdf\u001b[0m\u001b[1;33m.\u001b[0m\u001b[0mhead\u001b[0m\u001b[1;33m(\u001b[0m\u001b[1;33m)\u001b[0m\u001b[1;33m)\u001b[0m\u001b[1;33m\u001b[0m\u001b[1;33m\u001b[0m\u001b[0m\n",
      "\u001b[1;32m~\\Anaconda3\\envs\\tensor\\lib\\site-packages\\pandas\\core\\frame.py\u001b[0m in \u001b[0;36mappend\u001b[1;34m(self, other, ignore_index, verify_integrity, sort)\u001b[0m\n\u001b[0;32m   7745\u001b[0m             \u001b[0mignore_index\u001b[0m\u001b[1;33m=\u001b[0m\u001b[0mignore_index\u001b[0m\u001b[1;33m,\u001b[0m\u001b[1;33m\u001b[0m\u001b[1;33m\u001b[0m\u001b[0m\n\u001b[0;32m   7746\u001b[0m             \u001b[0mverify_integrity\u001b[0m\u001b[1;33m=\u001b[0m\u001b[0mverify_integrity\u001b[0m\u001b[1;33m,\u001b[0m\u001b[1;33m\u001b[0m\u001b[1;33m\u001b[0m\u001b[0m\n\u001b[1;32m-> 7747\u001b[1;33m             \u001b[0msort\u001b[0m\u001b[1;33m=\u001b[0m\u001b[0msort\u001b[0m\u001b[1;33m,\u001b[0m\u001b[1;33m\u001b[0m\u001b[1;33m\u001b[0m\u001b[0m\n\u001b[0m\u001b[0;32m   7748\u001b[0m         )\n\u001b[0;32m   7749\u001b[0m \u001b[1;33m\u001b[0m\u001b[0m\n",
      "\u001b[1;32m~\\Anaconda3\\envs\\tensor\\lib\\site-packages\\pandas\\core\\reshape\\concat.py\u001b[0m in \u001b[0;36mconcat\u001b[1;34m(objs, axis, join, ignore_index, keys, levels, names, verify_integrity, sort, copy)\u001b[0m\n\u001b[0;32m    285\u001b[0m     )\n\u001b[0;32m    286\u001b[0m \u001b[1;33m\u001b[0m\u001b[0m\n\u001b[1;32m--> 287\u001b[1;33m     \u001b[1;32mreturn\u001b[0m \u001b[0mop\u001b[0m\u001b[1;33m.\u001b[0m\u001b[0mget_result\u001b[0m\u001b[1;33m(\u001b[0m\u001b[1;33m)\u001b[0m\u001b[1;33m\u001b[0m\u001b[1;33m\u001b[0m\u001b[0m\n\u001b[0m\u001b[0;32m    288\u001b[0m \u001b[1;33m\u001b[0m\u001b[0m\n\u001b[0;32m    289\u001b[0m \u001b[1;33m\u001b[0m\u001b[0m\n",
      "\u001b[1;32m~\\Anaconda3\\envs\\tensor\\lib\\site-packages\\pandas\\core\\reshape\\concat.py\u001b[0m in \u001b[0;36mget_result\u001b[1;34m(self)\u001b[0m\n\u001b[0;32m    501\u001b[0m \u001b[1;33m\u001b[0m\u001b[0m\n\u001b[0;32m    502\u001b[0m             new_data = concatenate_block_managers(\n\u001b[1;32m--> 503\u001b[1;33m                 \u001b[0mmgrs_indexers\u001b[0m\u001b[1;33m,\u001b[0m \u001b[0mself\u001b[0m\u001b[1;33m.\u001b[0m\u001b[0mnew_axes\u001b[0m\u001b[1;33m,\u001b[0m \u001b[0mconcat_axis\u001b[0m\u001b[1;33m=\u001b[0m\u001b[0mself\u001b[0m\u001b[1;33m.\u001b[0m\u001b[0mbm_axis\u001b[0m\u001b[1;33m,\u001b[0m \u001b[0mcopy\u001b[0m\u001b[1;33m=\u001b[0m\u001b[0mself\u001b[0m\u001b[1;33m.\u001b[0m\u001b[0mcopy\u001b[0m\u001b[1;33m,\u001b[0m\u001b[1;33m\u001b[0m\u001b[1;33m\u001b[0m\u001b[0m\n\u001b[0m\u001b[0;32m    504\u001b[0m             )\n\u001b[0;32m    505\u001b[0m             \u001b[1;32mif\u001b[0m \u001b[1;32mnot\u001b[0m \u001b[0mself\u001b[0m\u001b[1;33m.\u001b[0m\u001b[0mcopy\u001b[0m\u001b[1;33m:\u001b[0m\u001b[1;33m\u001b[0m\u001b[1;33m\u001b[0m\u001b[0m\n",
      "\u001b[1;32m~\\Anaconda3\\envs\\tensor\\lib\\site-packages\\pandas\\core\\internals\\concat.py\u001b[0m in \u001b[0;36mconcatenate_block_managers\u001b[1;34m(mgrs_indexers, axes, concat_axis, copy)\u001b[0m\n\u001b[0;32m     82\u001b[0m         \u001b[0mblocks\u001b[0m\u001b[1;33m.\u001b[0m\u001b[0mappend\u001b[0m\u001b[1;33m(\u001b[0m\u001b[0mb\u001b[0m\u001b[1;33m)\u001b[0m\u001b[1;33m\u001b[0m\u001b[1;33m\u001b[0m\u001b[0m\n\u001b[0;32m     83\u001b[0m \u001b[1;33m\u001b[0m\u001b[0m\n\u001b[1;32m---> 84\u001b[1;33m     \u001b[1;32mreturn\u001b[0m \u001b[0mBlockManager\u001b[0m\u001b[1;33m(\u001b[0m\u001b[0mblocks\u001b[0m\u001b[1;33m,\u001b[0m \u001b[0maxes\u001b[0m\u001b[1;33m)\u001b[0m\u001b[1;33m\u001b[0m\u001b[1;33m\u001b[0m\u001b[0m\n\u001b[0m\u001b[0;32m     85\u001b[0m \u001b[1;33m\u001b[0m\u001b[0m\n\u001b[0;32m     86\u001b[0m \u001b[1;33m\u001b[0m\u001b[0m\n",
      "\u001b[1;32m~\\Anaconda3\\envs\\tensor\\lib\\site-packages\\pandas\\core\\internals\\managers.py\u001b[0m in \u001b[0;36m__init__\u001b[1;34m(self, blocks, axes, do_integrity_check)\u001b[0m\n\u001b[0;32m    147\u001b[0m \u001b[1;33m\u001b[0m\u001b[0m\n\u001b[0;32m    148\u001b[0m         \u001b[1;32mif\u001b[0m \u001b[0mdo_integrity_check\u001b[0m\u001b[1;33m:\u001b[0m\u001b[1;33m\u001b[0m\u001b[1;33m\u001b[0m\u001b[0m\n\u001b[1;32m--> 149\u001b[1;33m             \u001b[0mself\u001b[0m\u001b[1;33m.\u001b[0m\u001b[0m_verify_integrity\u001b[0m\u001b[1;33m(\u001b[0m\u001b[1;33m)\u001b[0m\u001b[1;33m\u001b[0m\u001b[1;33m\u001b[0m\u001b[0m\n\u001b[0m\u001b[0;32m    150\u001b[0m \u001b[1;33m\u001b[0m\u001b[0m\n\u001b[0;32m    151\u001b[0m         \u001b[1;31m# Populate known_consolidate, blknos, and blklocs lazily\u001b[0m\u001b[1;33m\u001b[0m\u001b[1;33m\u001b[0m\u001b[1;33m\u001b[0m\u001b[0m\n",
      "\u001b[1;32m~\\Anaconda3\\envs\\tensor\\lib\\site-packages\\pandas\\core\\internals\\managers.py\u001b[0m in \u001b[0;36m_verify_integrity\u001b[1;34m(self)\u001b[0m\n\u001b[0;32m    327\u001b[0m         \u001b[1;32mif\u001b[0m \u001b[0mlen\u001b[0m\u001b[1;33m(\u001b[0m\u001b[0mself\u001b[0m\u001b[1;33m.\u001b[0m\u001b[0mitems\u001b[0m\u001b[1;33m)\u001b[0m \u001b[1;33m!=\u001b[0m \u001b[0mtot_items\u001b[0m\u001b[1;33m:\u001b[0m\u001b[1;33m\u001b[0m\u001b[1;33m\u001b[0m\u001b[0m\n\u001b[0;32m    328\u001b[0m             raise AssertionError(\n\u001b[1;32m--> 329\u001b[1;33m                 \u001b[1;34m\"Number of manager items must equal union of \"\u001b[0m\u001b[1;33m\u001b[0m\u001b[1;33m\u001b[0m\u001b[0m\n\u001b[0m\u001b[0;32m    330\u001b[0m                 \u001b[1;34mf\"block items\\n# manager items: {len(self.items)}, # \"\u001b[0m\u001b[1;33m\u001b[0m\u001b[1;33m\u001b[0m\u001b[0m\n\u001b[0;32m    331\u001b[0m                 \u001b[1;34mf\"tot_items: {tot_items}\"\u001b[0m\u001b[1;33m\u001b[0m\u001b[1;33m\u001b[0m\u001b[0m\n",
      "\u001b[1;31mAssertionError\u001b[0m: Number of manager items must equal union of block items\n# manager items: 20, # tot_items: 21"
     ]
    }
   ],
   "source": [
    "\n",
    "\"\"\"df = format(\"Source/1076004.csv\")\n",
    "df.info()\n",
    "display(df.head())\n",
    "#print(\"original df\")\"\"\"\n",
    "df = pd.DataFrame()\n",
    "\n",
    "path = \"C:/Users/alizo/OneDrive - University of Waterloo/Desktop/Ali/Universities/Data Science/Cricket ML/Source\"\n",
    "all_files = glob.glob(os.path.join(path, \"*.csv\"))\n",
    "for i in range(3):\n",
    "    new_df = format(all_files[i])\n",
    "    new_df.rename(columns={ new_df.columns[0]: \"team2\" }, inplace=True)\n",
    "    # print(\"New df\")\n",
    "    # display(new_df.head())\n",
    "    #df = pd.concat([df, new_df], axis=0, ignore_index=False)\n",
    "    df = df.append(new_df, ignore_index=True)\n",
    "    print(\"Original df\")\n",
    "    display(df.head())\n",
    "    #df.head()\n",
    "print(df.size)\n",
    "    #print(all_files) \"\"\""
   ]
  },
  {
   "cell_type": "code",
   "execution_count": 28,
   "metadata": {},
   "outputs": [
    {
     "data": {
      "text/plain": [
       "'1.1.3'"
      ]
     },
     "execution_count": 28,
     "metadata": {},
     "output_type": "execute_result"
    }
   ],
   "source": [
    "pd.__version__"
   ]
  },
  {
   "cell_type": "code",
   "execution_count": null,
   "metadata": {},
   "outputs": [],
   "source": []
  }
 ],
 "metadata": {
  "kernelspec": {
   "display_name": "Python 3",
   "language": "python",
   "name": "python3"
  },
  "language_info": {
   "codemirror_mode": {
    "name": "ipython",
    "version": 3
   },
   "file_extension": ".py",
   "mimetype": "text/x-python",
   "name": "python",
   "nbconvert_exporter": "python",
   "pygments_lexer": "ipython3",
   "version": "3.7.9"
  }
 },
 "nbformat": 4,
 "nbformat_minor": 4
}
